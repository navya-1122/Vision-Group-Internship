{
  "nbformat": 4,
  "nbformat_minor": 0,
  "metadata": {
    "colab": {
      "private_outputs": true,
      "provenance": [],
      "authorship_tag": "ABX9TyO/yF6dA+IPmoIVoFCo/xGW",
      "include_colab_link": true
    },
    "kernelspec": {
      "name": "python3",
      "display_name": "Python 3"
    },
    "language_info": {
      "name": "python"
    }
  },
  "cells": [
    {
      "cell_type": "markdown",
      "metadata": {
        "id": "view-in-github",
        "colab_type": "text"
      },
      "source": [
        "<a href=\"https://colab.research.google.com/github/navya-1122/Vision-Group-Internship/blob/main/Image_Classification.ipynb\" target=\"_parent\"><img src=\"https://colab.research.google.com/assets/colab-badge.svg\" alt=\"Open In Colab\"/></a>"
      ]
    },
    {
      "cell_type": "code",
      "execution_count": null,
      "metadata": {
        "id": "5nFhB9KczZa5"
      },
      "outputs": [],
      "source": [
        "import tensorflow as tf\n",
        "(x_train, y_train), (x_test, y_test) = tf.keras.datasets.mnist.load_data()\n",
        "\n",
        "from google.colab.patches import cv2_imshow\n",
        "r=[]\n",
        "for i in range(len(x_train)):\n",
        "    p = y_train[i]\n",
        "    if p not in r:\n",
        "        r.append(p)\n",
        "        cv2_imshow(x_train[i])\n",
        "    if len(r) == 10:\n",
        "        break"
      ]
    },
    {
      "cell_type": "code",
      "source": [
        "import numpy as np\n",
        "from tensorflow.keras.datasets import mnist\n",
        "(x_train1, y_train1), (x_test, y_test) = mnist.load_data()\n",
        "x_train, x_val = x_train1[:50000], x_train1[50000:]\n",
        "y_train, y_val = y_train1[:50000], y_train1[50000:]\n"
      ],
      "metadata": {
        "id": "IEXjOyWHAn-R"
      },
      "execution_count": null,
      "outputs": []
    },
    {
      "cell_type": "code",
      "source": [
        "#For validating data\n",
        "\n",
        "import matplotlib.pyplot as plt\n",
        "import numpy as np\n",
        "a=[1,2,3,4,5,6,7,8,9,10]\n",
        "plt.bar(a, np.bincount(y_val))\n",
        "plt.xlabel('Digit')\n",
        "plt.ylabel('No. of images')\n",
        "plt.title('Number of Images per Digit')\n",
        "plt.xticks(a)\n",
        "plt.show()"
      ],
      "metadata": {
        "id": "R76a_I5MF8VA"
      },
      "execution_count": null,
      "outputs": []
    },
    {
      "cell_type": "code",
      "source": [
        "#For training data\n",
        "\n",
        "import matplotlib.pyplot as plt\n",
        "import numpy as np\n",
        "a=[1,2,3,4,5,6,7,8,9,10]\n",
        "plt.bar(a, np.bincount(y_train))\n",
        "plt.xlabel('Digit')\n",
        "plt.ylabel('No. of images')\n",
        "plt.title('Number of Images per Digit')\n",
        "plt.xticks(a)\n",
        "plt.show()"
      ],
      "metadata": {
        "id": "MQzjHyg6ztqo"
      },
      "execution_count": null,
      "outputs": []
    },
    {
      "cell_type": "code",
      "source": [
        "#For testing data\n",
        "\n",
        "import matplotlib.pyplot as plt\n",
        "import numpy as np\n",
        "a=[1,2,3,4,5,6,7,8,9,10]\n",
        "plt.bar(a, np.bincou==nt(y_test))\n",
        "plt.xlabel('Digit')\n",
        "plt.ylabel('No. of images')\n",
        "plt.title('Number of Images per Digit')\n",
        "plt.xticks(a)\n",
        "plt.show()"
      ],
      "metadata": {
        "id": "U5PkLP9n6BZ1"
      },
      "execution_count": null,
      "outputs": []
    },
    {
      "cell_type": "markdown",
      "source": [],
      "metadata": {
        "id": "IsZ6TJUyRYMb"
      }
    },
    {
      "cell_type": "markdown",
      "source": [],
      "metadata": {
        "id": "--4NcpCSRYfB"
      }
    },
    {
      "cell_type": "code",
      "source": [
        "import tensorflow as tf\n",
        "from google.colab.patches import cv2_imshow\n",
        "import cv2 as cv\n",
        "\n",
        "(x_train, y_train), (x_test, y_test) = tf.keras.datasets.mnist.load_data()\n",
        "\n",
        "r = []\n",
        "for i in range(len(x_train)):\n",
        "    p = y_train[i]\n",
        "    if p not in r:\n",
        "        r.append(p)\n",
        "\n",
        "        laplacian = cv.Laplacian(x_train[i], cv.CV_8U)\n",
        "        ret, thresh = cv.threshold(laplacian, 30, 255, cv.THRESH_BINARY)\n",
        "        contours, hierarchy = cv.findContours(thresh, cv.RETR_EXTERNAL, cv.CHAIN_APPROX_SIMPLE)\n",
        "\n",
        "        img = cv.cvtColor(x_train[i], cv.COLOR_GRAY2BGR)\n",
        "        cv.drawContours(img, contours, -1, (0, 255, 0), 1)\n",
        "\n",
        "        cv2_imshow(img)\n",
        "\n",
        "    if len(r) == 10:\n",
        "        break"
      ],
      "metadata": {
        "id": "6Iae05pfRY1h"
      },
      "execution_count": null,
      "outputs": []
    },
    {
      "cell_type": "markdown",
      "source": [],
      "metadata": {
        "id": "m2vqwfHhblVu"
      }
    },
    {
      "cell_type": "markdown",
      "source": [],
      "metadata": {
        "id": "oJoHEu5jeOCk"
      }
    },
    {
      "cell_type": "code",
      "source": [
        "import cv2\n",
        "from google.colab.patches import cv2_imshow\n",
        "a=cv2.imread('download.png')\n",
        "\n",
        "horizontal = cv2.flip(a, 1)\n",
        "cv2_imshow(horizontal)\n",
        "\n",
        "vertical = cv2.flip(a, 0)\n",
        "cv2_imshow(vertical)\n"
      ],
      "metadata": {
        "id": "E0fK-Nd_eNhx"
      },
      "execution_count": null,
      "outputs": []
    },
    {
      "cell_type": "code",
      "source": [
        "import numpy as np\n",
        "image=plt.imread('download.png')\n",
        "\n",
        "horizontal = np.flip(image, axis=1)\n",
        "plt.imshow(horizontal)\n",
        "plt.show()\n",
        "\n",
        "vertical = np.flip(image, axis=0)\n",
        "plt.imshow(vertical)\n",
        "plt.show()"
      ],
      "metadata": {
        "id": "-9wBvkqhiQxC"
      },
      "execution_count": null,
      "outputs": []
    },
    {
      "cell_type": "code",
      "source": [
        "from PIL import Image\n",
        "\n",
        "img = Image.open(\"download.png\")\n",
        "\n",
        "horzizontal = img.transpose(method=Image.FLIP_LEFT_RIGHT)\n",
        "horzizontal.save(\"horizontal.png\")\n",
        "\n",
        "img.close()\n",
        "horzizontal.close()"
      ],
      "metadata": {
        "id": "DOU0Thsjnl2M"
      },
      "execution_count": null,
      "outputs": []
    },
    {
      "cell_type": "code",
      "source": [],
      "metadata": {
        "id": "bwtgraeEo7FM"
      },
      "execution_count": null,
      "outputs": []
    },
    {
      "cell_type": "code",
      "source": [
        "from PIL import Image\n",
        "\n",
        "img = Image.open(\"download.png\")\n",
        "\n",
        "vertical = img.transpose(method=Image.FLIP_TOP_BOTTOM)\n",
        "vertical.save(\"vertical.png\")\n",
        "\n",
        "img.close()\n",
        "vertical.close()"
      ],
      "metadata": {
        "id": "Bad5Vv6Bov7M"
      },
      "execution_count": null,
      "outputs": []
    },
    {
      "cell_type": "code",
      "source": [
        "from PIL import Image\n",
        "import matplotlib.pyplot as plt\n",
        "img = Image.open(\"download.png\")\n",
        "r = img.copy()\n",
        "\n",
        "pixels1 = img.load()\n",
        "pixels2 = r.load()\n",
        "\n",
        "for y in range(img.height):\n",
        "    for x in range(img.width):\n",
        "        pixels2[x, y] = pixels1[width-1-x,y]\n",
        "\n",
        "plt.imshow(r)\n",
        "plt.show()\n"
      ],
      "metadata": {
        "id": "wU-hR1BnqLZD"
      },
      "execution_count": null,
      "outputs": []
    }
  ]
}